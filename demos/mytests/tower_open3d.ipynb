{
 "cells": [
  {
   "cell_type": "code",
   "execution_count": 1,
   "id": "22959350-2892-44c4-a277-1716aa0c567f",
   "metadata": {},
   "outputs": [
    {
     "name": "stdout",
     "output_type": "stream",
     "text": [
      "Jupyter environment detected. Enabling Open3D WebVisualizer.\n",
      "[Open3D INFO] WebRTC GUI backend enabled.\n",
      "[Open3D INFO] WebRTCWindowSystem: HTTP handshake server disabled.\n"
     ]
    }
   ],
   "source": [
    "import open3d as o3d\n",
    "import os\n",
    "import numpy as np\n",
    "\n",
    "this_path = os.getcwd()\n",
    "data_path = os.path.abspath(os.path.join(this_path, '..', '..', 'data'))\n",
    "obj_file = os.path.join(data_path, 'gralha_azul_torre.obj')\n",
    "\n",
    "mesh = o3d.io.read_triangle_mesh(obj_file)"
   ]
  },
  {
   "cell_type": "code",
   "execution_count": 2,
   "id": "fa167824-0658-4554-a9a3-a2671e0322e9",
   "metadata": {},
   "outputs": [],
   "source": [
    "def get_mesh_min_max(mesh):\n",
    "  \"\"\"\n",
    "  Calculates the minimum and maximum x, y, and z coordinates of a mesh.\n",
    "\n",
    "  Args:\n",
    "    mesh: The Open3D mesh object.\n",
    "\n",
    "  Returns:\n",
    "    A dictionary containing the minimum and maximum x, y, and z values.\n",
    "  \"\"\"\n",
    "\n",
    "  # Get the mesh vertices as a NumPy array\n",
    "  vertices = np.asarray(mesh.vertices)\n",
    "\n",
    "  # Calculate the minimum and maximum values along each axis (x, y, z)\n",
    "  min_x, min_y, min_z = np.min(vertices, axis=0)\n",
    "  max_x, max_y, max_z = np.max(vertices, axis=0)\n",
    "\n",
    "  # Return the results in a dictionary\n",
    "  return {\n",
    "      \"min_x\": min_x,\n",
    "      \"min_y\": min_y,\n",
    "      \"min_z\": min_z,\n",
    "      \"max_x\": max_x,\n",
    "      \"max_y\": max_y,\n",
    "      \"max_z\": max_z,\n",
    "  }"
   ]
  },
  {
   "cell_type": "code",
   "execution_count": 3,
   "id": "2d7de475-9293-497a-a284-1db49360420f",
   "metadata": {},
   "outputs": [],
   "source": [
    "def is_point_inside_mesh(mesh, point):\n",
    "    \"\"\"\n",
    "    Checks if a point is inside a mesh.\n",
    "\n",
    "    Args:\n",
    "      mesh: The Open3D mesh object.\n",
    "      point: A tuple (x, y, z) representing the point's coordinates.\n",
    "\n",
    "    Returns:\n",
    "      True if the point is inside the mesh, False otherwise.\n",
    "    \"\"\"\n",
    "\n",
    "    # Create a RaycastingScene with the mesh\n",
    "    scene = o3d.t.geometry.RaycastingScene()\n",
    "    scene.add_triangles(o3d.t.geometry.TriangleMesh.from_legacy(mesh)) \n",
    "\n",
    "    # Define the ray origin (your point) and direction (any direction will do)\n",
    "    ray_origin = point\n",
    "    ray_direction = [1.0, 0.0, 0.0]  # Example direction: along the positive x-axis\n",
    "\n",
    "    # Perform the ray cast\n",
    "    ans = scene.cast_rays(o3d.core.Tensor([ray_origin], dtype=o3d.core.Dtype.Float32))\n",
    "\n",
    "    # Extract the hit information\n",
    "    hit = ans['t_hit'].numpy() \n",
    "\n",
    "    # If there's a hit (not NaN) and the number of hits is odd, the point is inside\n",
    "    return not np.isnan(hit[0]) and int(hit[0]) % 2 == 1"
   ]
  },
  {
   "cell_type": "code",
   "execution_count": 13,
   "id": "b7c3ae7f-7cf9-4c9b-ad87-45c55f385b84",
   "metadata": {},
   "outputs": [],
   "source": [
    "def filter_points_by_mesh(pcd, mesh):\n",
    "    \"\"\"\n",
    "    Filters a point cloud to keep only the points inside a mesh.\n",
    "\n",
    "    Args:\n",
    "      pcd: The Open3D point cloud object.\n",
    "      mesh: The Open3D mesh object.\n",
    "\n",
    "    Returns:\n",
    "      An Open3D point cloud containing only the points inside the mesh.\n",
    "    \"\"\"\n",
    "\n",
    "    # Create a RaycastingScene with the mesh\n",
    "    scene = o3d.t.geometry.RaycastingScene()\n",
    "    scene.add_triangles(o3d.t.geometry.TriangleMesh.from_legacy(mesh))\n",
    "\n",
    "    # Get the point cloud points as a NumPy array\n",
    "    points = np.asarray(pcd.points)\n",
    "\n",
    "    # Prepare an array to store the ray origins (the point cloud points)\n",
    "    ray_origins = o3d.core.Tensor(points, dtype=o3d.core.Dtype.Float32)\n",
    "\n",
    "    # Choose an arbitrary ray direction (any direction will work)\n",
    "    ray_direction = [1.0, 0.0, 0.0] \n",
    "\n",
    "    # Perform ray casting for all points in the point cloud\n",
    "    ans = scene.cast_rays(ray_origins)\n",
    "\n",
    "    # Extract hit information\n",
    "    hit = ans['t_hit'].numpy()\n",
    "\n",
    "    # Create a mask to select points with an odd number of hits\n",
    "    inside_mask = (np.isfinite(hit)) & (hit.astype(int) % 2 == 1)\n",
    "\n",
    "    # Filter the point cloud using the mask\n",
    "    filtered_points = o3d.geometry.PointCloud()\n",
    "    filtered_points.points = o3d.utility.Vector3dVector(points[inside_mask])\n",
    "\n",
    "    return filtered_points"
   ]
  },
  {
   "cell_type": "code",
   "execution_count": 4,
   "id": "c03d9c7d-bb93-4151-adf5-3823617648ee",
   "metadata": {},
   "outputs": [
    {
     "data": {
      "text/plain": [
       "array([[ 1.33616102, 50.75621796, -1.05936503],\n",
       "       [ 1.33881903, 50.76016998, -1.056615  ],\n",
       "       [ 1.33728504, 50.75788879, -1.05735195],\n",
       "       ...,\n",
       "       [-5.86057281, 15.71444893, -3.02037001],\n",
       "       [-5.85783005, 15.7174778 , -3.02104092],\n",
       "       [-5.85627174, 15.71181488, -3.014678  ]])"
      ]
     },
     "execution_count": 4,
     "metadata": {},
     "output_type": "execute_result"
    }
   ],
   "source": [
    "import numpy as np\n",
    "\n",
    "vertices = np.asarray(mesh.vertices)\n",
    "vertices"
   ]
  },
  {
   "cell_type": "code",
   "execution_count": 5,
   "id": "fb0d9b4d-3238-4b46-897a-aa2eeea4da0b",
   "metadata": {},
   "outputs": [],
   "source": [
    "aabb = mesh.get_axis_aligned_bounding_box()\n",
    "aabb.color = (1, 0, 0)\n",
    "obb = mesh.get_oriented_bounding_box()\n",
    "obb.color = (0, 1, 0)\n",
    "# o3d.visualization.draw_geometries([mesh, aabb, obb])"
   ]
  },
  {
   "cell_type": "code",
   "execution_count": 6,
   "id": "585ccca9-6eab-43b6-ba2e-d81503df28d7",
   "metadata": {},
   "outputs": [
    {
     "data": {
      "text/plain": [
       "AxisAlignedBoundingBox: min: (-12.4798, 8.31601, -5.35876), max: (12.4798, 66.95, 5.35876)"
      ]
     },
     "execution_count": 6,
     "metadata": {},
     "output_type": "execute_result"
    }
   ],
   "source": [
    "aabb"
   ]
  },
  {
   "cell_type": "code",
   "execution_count": 7,
   "id": "1ce9d337-9501-4c77-a260-ae46b3f185e3",
   "metadata": {},
   "outputs": [
    {
     "data": {
      "text/plain": [
       "OrientedBoundingBox: center: (-0.0752666, 37.5985, 0.24228), extent: 58.7123, 24.9598, 10.7357)"
      ]
     },
     "execution_count": 7,
     "metadata": {},
     "output_type": "execute_result"
    }
   ],
   "source": [
    "obb"
   ]
  },
  {
   "cell_type": "code",
   "execution_count": 8,
   "id": "375d9659-9a43-4b05-b0b3-3bd42bcb37d7",
   "metadata": {},
   "outputs": [
    {
     "data": {
      "text/plain": [
       "{'min_x': -12.479758262634277,\n",
       " 'min_y': 8.31600570678711,\n",
       " 'min_z': -5.358763217926025,\n",
       " 'max_x': 12.479758262634277,\n",
       " 'max_y': 66.95001983642578,\n",
       " 'max_z': 5.358759880065918}"
      ]
     },
     "execution_count": 8,
     "metadata": {},
     "output_type": "execute_result"
    }
   ],
   "source": [
    "get_mesh_min_max(mesh)"
   ]
  },
  {
   "cell_type": "code",
   "execution_count": 9,
   "id": "0032a54c-76d3-4f53-ade4-09672e92caa6",
   "metadata": {},
   "outputs": [
    {
     "data": {
      "text/plain": [
       "open3d.cpu.pybind.geometry.AxisAlignedBoundingBox"
      ]
     },
     "execution_count": 9,
     "metadata": {},
     "output_type": "execute_result"
    }
   ],
   "source": [
    "type(aabb)"
   ]
  },
  {
   "cell_type": "code",
   "execution_count": 10,
   "id": "b83e033f-2d31-4b66-aa8d-e84f914e0d8b",
   "metadata": {},
   "outputs": [
    {
     "data": {
      "text/plain": [
       "std::vector<Eigen::Vector3d> with 8 elements.\n",
       "Use numpy.asarray() to access data."
      ]
     },
     "execution_count": 10,
     "metadata": {},
     "output_type": "execute_result"
    }
   ],
   "source": [
    "aabb.get_box_points()"
   ]
  },
  {
   "cell_type": "code",
   "execution_count": 12,
   "id": "fb03c99b-5982-40e2-aea5-a3f8a5bbe492",
   "metadata": {},
   "outputs": [
    {
     "data": {
      "text/plain": [
       "array([[-12.47975826,   8.31600571,  -5.35876322],\n",
       "       [ 12.47975826,   8.31600571,  -5.35876322],\n",
       "       [-12.47975826,  66.95001984,  -5.35876322],\n",
       "       [-12.47975826,   8.31600571,   5.35875988],\n",
       "       [ 12.47975826,  66.95001984,   5.35875988],\n",
       "       [-12.47975826,  66.95001984,   5.35875988],\n",
       "       [ 12.47975826,   8.31600571,   5.35875988],\n",
       "       [ 12.47975826,  66.95001984,  -5.35876322]])"
      ]
     },
     "execution_count": 12,
     "metadata": {},
     "output_type": "execute_result"
    }
   ],
   "source": [
    "np.asarray(aabb.get_box_points())"
   ]
  },
  {
   "cell_type": "code",
   "execution_count": null,
   "id": "7b802134-039d-41fa-a559-6ca2001bad49",
   "metadata": {},
   "outputs": [],
   "source": []
  }
 ],
 "metadata": {
  "kernelspec": {
   "display_name": "Python 3 (ipykernel)",
   "language": "python",
   "name": "python3"
  },
  "language_info": {
   "codemirror_mode": {
    "name": "ipython",
    "version": 3
   },
   "file_extension": ".py",
   "mimetype": "text/x-python",
   "name": "python",
   "nbconvert_exporter": "python",
   "pygments_lexer": "ipython3",
   "version": "3.11.9"
  }
 },
 "nbformat": 4,
 "nbformat_minor": 5
}
